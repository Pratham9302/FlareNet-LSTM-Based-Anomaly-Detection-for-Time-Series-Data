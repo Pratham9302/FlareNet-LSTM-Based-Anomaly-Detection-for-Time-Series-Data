{
 "cells": [
  {
   "cell_type": "markdown",
   "id": "594381bf-18b5-405d-9ffc-96151f5ddffc",
   "metadata": {},
   "source": [
    "# 🔍 LSTM-Flare Anomaly Detection Notebook\n",
    "This notebook implements a custom LSTM autoencoder-based anomaly detection tool for the LSTM-Flare time series dataset.\n",
    "It includes:\n",
    "- Data preprocessing\n",
    "- Sliding window creation\n",
    "- LSTM Autoencoder model\n",
    "- Anomaly detection\n",
    "- Label-based evaluation (if labels available)\n",
    "\n",
    "Author: *Pratahm Raj Mathur*"
   ]
  },
  {
   "cell_type": "code",
   "execution_count": 33,
   "id": "f32fc37b",
   "metadata": {},
   "outputs": [
    {
     "name": "stderr",
     "output_type": "stream",
     "text": [
      "/var/folders/fs/d880vrvd1l5c_m6nhzkj2k_r0000gn/T/ipykernel_95977/2541451314.py:11: MatplotlibDeprecationWarning: The seaborn styles shipped by Matplotlib are deprecated since 3.6, as they no longer correspond to the styles shipped by seaborn. However, they will remain available as 'seaborn-v0_8-<style>'. Alternatively, directly use the seaborn API instead.\n",
      "  plt.style.use('seaborn-darkgrid')\n"
     ]
    }
   ],
   "source": [
    "import pandas as pd\n",
    "import numpy as np\n",
    "import matplotlib.pyplot as plt\n",
    "from sklearn.preprocessing import MinMaxScaler\n",
    "from sklearn.metrics import classification_report\n",
    "from tensorflow.keras.models import Sequential\n",
    "from tensorflow.keras.layers import LSTM, RepeatVector, TimeDistributed, Dense\n",
    "import seaborn as sns\n",
    "\n",
    "plt.style.use('seaborn-darkgrid')"
   ]
  },
  {
   "cell_type": "code",
   "execution_count": 34,
   "id": "9c9fb1c6",
   "metadata": {},
   "outputs": [
    {
     "data": {
      "text/html": [
       "<div>\n",
       "<style scoped>\n",
       "    .dataframe tbody tr th:only-of-type {\n",
       "        vertical-align: middle;\n",
       "    }\n",
       "\n",
       "    .dataframe tbody tr th {\n",
       "        vertical-align: top;\n",
       "    }\n",
       "\n",
       "    .dataframe thead th {\n",
       "        text-align: right;\n",
       "    }\n",
       "</style>\n",
       "<table border=\"1\" class=\"dataframe\">\n",
       "  <thead>\n",
       "    <tr style=\"text-align: right;\">\n",
       "      <th></th>\n",
       "      <th>NOAA</th>\n",
       "      <th>HARP</th>\n",
       "      <th>TOTUSJH</th>\n",
       "      <th>USFLUX</th>\n",
       "      <th>SAVNCPP</th>\n",
       "      <th>TOTUSJZ</th>\n",
       "      <th>ABSNJZH</th>\n",
       "      <th>TOTPOT</th>\n",
       "      <th>AREA_ACR</th>\n",
       "      <th>Cdec</th>\n",
       "      <th>...</th>\n",
       "      <th>MEANGBH</th>\n",
       "      <th>MEANJZD</th>\n",
       "      <th>Xhis1d</th>\n",
       "      <th>Xdec</th>\n",
       "      <th>Xhis</th>\n",
       "      <th>EPSX</th>\n",
       "      <th>EPSY</th>\n",
       "      <th>Bhis</th>\n",
       "      <th>Bdec</th>\n",
       "      <th>Bhis1d</th>\n",
       "    </tr>\n",
       "  </thead>\n",
       "  <tbody>\n",
       "    <tr>\n",
       "      <th>0</th>\n",
       "      <td>0.0</td>\n",
       "      <td>0.0</td>\n",
       "      <td>0.005989</td>\n",
       "      <td>0.008768</td>\n",
       "      <td>0.005122</td>\n",
       "      <td>0.000341</td>\n",
       "      <td>0.009140</td>\n",
       "      <td>0.002733</td>\n",
       "      <td>0.007698</td>\n",
       "      <td>0.0</td>\n",
       "      <td>...</td>\n",
       "      <td>0.000000</td>\n",
       "      <td>0.487072</td>\n",
       "      <td>0.0</td>\n",
       "      <td>0.0</td>\n",
       "      <td>0.0</td>\n",
       "      <td>0.132061</td>\n",
       "      <td>0.800595</td>\n",
       "      <td>0.0</td>\n",
       "      <td>0.0</td>\n",
       "      <td>0.0</td>\n",
       "    </tr>\n",
       "    <tr>\n",
       "      <th>1</th>\n",
       "      <td>0.0</td>\n",
       "      <td>0.0</td>\n",
       "      <td>0.005419</td>\n",
       "      <td>0.007201</td>\n",
       "      <td>0.005283</td>\n",
       "      <td>0.001308</td>\n",
       "      <td>0.007514</td>\n",
       "      <td>0.000973</td>\n",
       "      <td>0.006364</td>\n",
       "      <td>0.0</td>\n",
       "      <td>...</td>\n",
       "      <td>0.064768</td>\n",
       "      <td>0.563488</td>\n",
       "      <td>0.0</td>\n",
       "      <td>0.0</td>\n",
       "      <td>0.0</td>\n",
       "      <td>0.097710</td>\n",
       "      <td>0.601190</td>\n",
       "      <td>0.0</td>\n",
       "      <td>0.0</td>\n",
       "      <td>0.0</td>\n",
       "    </tr>\n",
       "    <tr>\n",
       "      <th>2</th>\n",
       "      <td>0.0</td>\n",
       "      <td>0.0</td>\n",
       "      <td>0.006254</td>\n",
       "      <td>0.007224</td>\n",
       "      <td>0.009353</td>\n",
       "      <td>0.002533</td>\n",
       "      <td>0.008150</td>\n",
       "      <td>0.000836</td>\n",
       "      <td>0.007350</td>\n",
       "      <td>0.0</td>\n",
       "      <td>...</td>\n",
       "      <td>0.021092</td>\n",
       "      <td>0.838827</td>\n",
       "      <td>0.0</td>\n",
       "      <td>0.0</td>\n",
       "      <td>0.0</td>\n",
       "      <td>0.071374</td>\n",
       "      <td>0.651786</td>\n",
       "      <td>0.0</td>\n",
       "      <td>0.0</td>\n",
       "      <td>0.0</td>\n",
       "    </tr>\n",
       "    <tr>\n",
       "      <th>3</th>\n",
       "      <td>0.0</td>\n",
       "      <td>0.0</td>\n",
       "      <td>0.005578</td>\n",
       "      <td>0.005472</td>\n",
       "      <td>0.006561</td>\n",
       "      <td>0.000506</td>\n",
       "      <td>0.007409</td>\n",
       "      <td>0.000845</td>\n",
       "      <td>0.004865</td>\n",
       "      <td>0.0</td>\n",
       "      <td>...</td>\n",
       "      <td>0.034936</td>\n",
       "      <td>0.691031</td>\n",
       "      <td>0.0</td>\n",
       "      <td>0.0</td>\n",
       "      <td>0.0</td>\n",
       "      <td>0.072137</td>\n",
       "      <td>0.761905</td>\n",
       "      <td>0.0</td>\n",
       "      <td>0.0</td>\n",
       "      <td>0.0</td>\n",
       "    </tr>\n",
       "    <tr>\n",
       "      <th>4</th>\n",
       "      <td>0.0</td>\n",
       "      <td>0.0</td>\n",
       "      <td>0.007661</td>\n",
       "      <td>0.007046</td>\n",
       "      <td>0.004585</td>\n",
       "      <td>0.004011</td>\n",
       "      <td>0.006477</td>\n",
       "      <td>0.000000</td>\n",
       "      <td>0.003108</td>\n",
       "      <td>0.0</td>\n",
       "      <td>...</td>\n",
       "      <td>0.019762</td>\n",
       "      <td>0.603187</td>\n",
       "      <td>0.0</td>\n",
       "      <td>0.0</td>\n",
       "      <td>0.0</td>\n",
       "      <td>0.053817</td>\n",
       "      <td>0.767857</td>\n",
       "      <td>0.0</td>\n",
       "      <td>0.0</td>\n",
       "      <td>0.0</td>\n",
       "    </tr>\n",
       "  </tbody>\n",
       "</table>\n",
       "<p>5 rows × 42 columns</p>\n",
       "</div>"
      ],
      "text/plain": [
       "   NOAA  HARP   TOTUSJH    USFLUX   SAVNCPP   TOTUSJZ   ABSNJZH    TOTPOT  \\\n",
       "0   0.0   0.0  0.005989  0.008768  0.005122  0.000341  0.009140  0.002733   \n",
       "1   0.0   0.0  0.005419  0.007201  0.005283  0.001308  0.007514  0.000973   \n",
       "2   0.0   0.0  0.006254  0.007224  0.009353  0.002533  0.008150  0.000836   \n",
       "3   0.0   0.0  0.005578  0.005472  0.006561  0.000506  0.007409  0.000845   \n",
       "4   0.0   0.0  0.007661  0.007046  0.004585  0.004011  0.006477  0.000000   \n",
       "\n",
       "   AREA_ACR  Cdec  ...   MEANGBH   MEANJZD  Xhis1d  Xdec  Xhis      EPSX  \\\n",
       "0  0.007698   0.0  ...  0.000000  0.487072     0.0   0.0   0.0  0.132061   \n",
       "1  0.006364   0.0  ...  0.064768  0.563488     0.0   0.0   0.0  0.097710   \n",
       "2  0.007350   0.0  ...  0.021092  0.838827     0.0   0.0   0.0  0.071374   \n",
       "3  0.004865   0.0  ...  0.034936  0.691031     0.0   0.0   0.0  0.072137   \n",
       "4  0.003108   0.0  ...  0.019762  0.603187     0.0   0.0   0.0  0.053817   \n",
       "\n",
       "       EPSY  Bhis  Bdec  Bhis1d  \n",
       "0  0.800595   0.0   0.0     0.0  \n",
       "1  0.601190   0.0   0.0     0.0  \n",
       "2  0.651786   0.0   0.0     0.0  \n",
       "3  0.761905   0.0   0.0     0.0  \n",
       "4  0.767857   0.0   0.0     0.0  \n",
       "\n",
       "[5 rows x 42 columns]"
      ]
     },
     "execution_count": 34,
     "metadata": {},
     "output_type": "execute_result"
    }
   ],
   "source": [
    "df = pd.read_csv('normalized_testing.csv')\n",
    "df.head()"
   ]
  },
  {
   "cell_type": "code",
   "execution_count": 35,
   "id": "c0ca9627",
   "metadata": {},
   "outputs": [
    {
     "data": {
      "text/plain": [
       "(131, 60, 42)"
      ]
     },
     "execution_count": 35,
     "metadata": {},
     "output_type": "execute_result"
    }
   ],
   "source": [
    "if 'timestamp' in df.columns:\n",
    "    df = df.drop(columns=['timestamp'])\n",
    "\n",
    "scaler = MinMaxScaler()\n",
    "data_scaled = scaler.fit_transform(df)\n",
    "\n",
    "window_size = 60\n",
    "def create_windows(data, window):\n",
    "    return np.array([data[i:i+window] for i in range(len(data)-window)])\n",
    "\n",
    "X = create_windows(data_scaled, window_size)\n",
    "X.shape"
   ]
  },
  {
   "cell_type": "code",
   "execution_count": 36,
   "id": "8480ddd0",
   "metadata": {},
   "outputs": [
    {
     "name": "stdout",
     "output_type": "stream",
     "text": [
      "Model: \"sequential_5\"\n",
      "_________________________________________________________________\n",
      " Layer (type)                Output Shape              Param #   \n",
      "=================================================================\n",
      " lstm_10 (LSTM)              (None, 64)                27392     \n",
      "                                                                 \n",
      " repeat_vector_5 (RepeatVec  (None, 60, 64)            0         \n",
      " tor)                                                            \n",
      "                                                                 \n",
      " lstm_11 (LSTM)              (None, 60, 64)            33024     \n",
      "                                                                 \n",
      " time_distributed_5 (TimeDi  (None, 60, 42)            2730      \n",
      " stributed)                                                      \n",
      "                                                                 \n",
      "=================================================================\n",
      "Total params: 63146 (246.66 KB)\n",
      "Trainable params: 63146 (246.66 KB)\n",
      "Non-trainable params: 0 (0.00 Byte)\n",
      "_________________________________________________________________\n",
      "Epoch 1/20\n",
      "4/4 [==============================] - 1s 45ms/step - loss: 0.2253 - val_loss: 0.3286\n",
      "Epoch 2/20\n",
      "4/4 [==============================] - 0s 16ms/step - loss: 0.1757 - val_loss: 0.2911\n",
      "Epoch 3/20\n",
      "4/4 [==============================] - 0s 15ms/step - loss: 0.1316 - val_loss: 0.2426\n",
      "Epoch 4/20\n",
      "4/4 [==============================] - 0s 15ms/step - loss: 0.0967 - val_loss: 0.2036\n",
      "Epoch 5/20\n",
      "4/4 [==============================] - 0s 15ms/step - loss: 0.0738 - val_loss: 0.1741\n",
      "Epoch 6/20\n",
      "4/4 [==============================] - 0s 15ms/step - loss: 0.0549 - val_loss: 0.1579\n",
      "Epoch 7/20\n",
      "4/4 [==============================] - 0s 15ms/step - loss: 0.0430 - val_loss: 0.1442\n",
      "Epoch 8/20\n",
      "4/4 [==============================] - 0s 15ms/step - loss: 0.0355 - val_loss: 0.1281\n",
      "Epoch 9/20\n",
      "4/4 [==============================] - 0s 15ms/step - loss: 0.0313 - val_loss: 0.1195\n",
      "Epoch 10/20\n",
      "4/4 [==============================] - 0s 16ms/step - loss: 0.0281 - val_loss: 0.1085\n",
      "Epoch 11/20\n",
      "4/4 [==============================] - 0s 15ms/step - loss: 0.0257 - val_loss: 0.0965\n",
      "Epoch 12/20\n",
      "4/4 [==============================] - 0s 16ms/step - loss: 0.0237 - val_loss: 0.0946\n",
      "Epoch 13/20\n",
      "4/4 [==============================] - 0s 16ms/step - loss: 0.0220 - val_loss: 0.0891\n",
      "Epoch 14/20\n",
      "4/4 [==============================] - 0s 16ms/step - loss: 0.0206 - val_loss: 0.0840\n",
      "Epoch 15/20\n",
      "4/4 [==============================] - 0s 17ms/step - loss: 0.0195 - val_loss: 0.0847\n",
      "Epoch 16/20\n",
      "4/4 [==============================] - 0s 16ms/step - loss: 0.0185 - val_loss: 0.0819\n",
      "Epoch 17/20\n",
      "4/4 [==============================] - 0s 16ms/step - loss: 0.0177 - val_loss: 0.0780\n",
      "Epoch 18/20\n",
      "4/4 [==============================] - 0s 17ms/step - loss: 0.0167 - val_loss: 0.0748\n",
      "Epoch 19/20\n",
      "4/4 [==============================] - 0s 16ms/step - loss: 0.0180 - val_loss: 0.0756\n",
      "Epoch 20/20\n",
      "4/4 [==============================] - 0s 15ms/step - loss: 0.0174 - val_loss: 0.0736\n"
     ]
    },
    {
     "data": {
      "text/plain": [
       "<keras.src.callbacks.History at 0x33b9f6100>"
      ]
     },
     "execution_count": 36,
     "metadata": {},
     "output_type": "execute_result"
    }
   ],
   "source": [
    "model = Sequential([\n",
    "    LSTM(64, activation='relu', input_shape=(X.shape[1], X.shape[2]), return_sequences=False),\n",
    "    RepeatVector(X.shape[1]),\n",
    "    LSTM(64, activation='relu', return_sequences=True),\n",
    "    TimeDistributed(Dense(X.shape[2]))\n",
    "])\n",
    "\n",
    "model.compile(optimizer='adam', loss='mse')\n",
    "model.summary()\n",
    "model.fit(X, X, epochs=20, batch_size=32, validation_split=0.2)"
   ]
  },
  {
   "cell_type": "code",
   "execution_count": 37,
   "id": "825c1996",
   "metadata": {},
   "outputs": [
    {
     "name": "stdout",
     "output_type": "stream",
     "text": [
      "5/5 [==============================] - 0s 5ms/step\n",
      "              precision    recall  f1-score   support\n",
      "\n",
      "           0       1.00      0.95      0.97       131\n",
      "           1       0.00      0.00      0.00         0\n",
      "\n",
      "    accuracy                           0.95       131\n",
      "   macro avg       0.50      0.47      0.49       131\n",
      "weighted avg       1.00      0.95      0.97       131\n",
      "\n"
     ]
    },
    {
     "name": "stderr",
     "output_type": "stream",
     "text": [
      "/Users/prath/Desktop/NJIT/myenv/lib/python3.8/site-packages/sklearn/metrics/_classification.py:1318: UndefinedMetricWarning: Recall and F-score are ill-defined and being set to 0.0 in labels with no true samples. Use `zero_division` parameter to control this behavior.\n",
      "  _warn_prf(average, modifier, msg_start, len(result))\n",
      "/Users/prath/Desktop/NJIT/myenv/lib/python3.8/site-packages/sklearn/metrics/_classification.py:1318: UndefinedMetricWarning: Recall and F-score are ill-defined and being set to 0.0 in labels with no true samples. Use `zero_division` parameter to control this behavior.\n",
      "  _warn_prf(average, modifier, msg_start, len(result))\n",
      "/Users/prath/Desktop/NJIT/myenv/lib/python3.8/site-packages/sklearn/metrics/_classification.py:1318: UndefinedMetricWarning: Recall and F-score are ill-defined and being set to 0.0 in labels with no true samples. Use `zero_division` parameter to control this behavior.\n",
      "  _warn_prf(average, modifier, msg_start, len(result))\n"
     ]
    },
    {
     "data": {
      "image/png": "[encoded data removed]",
      "text/plain": [
       "<Figure size 1200x400 with 1 Axes>"
      ]
     },
     "metadata": {},
     "output_type": "display_data"
    }
   ],
   "source": [
    "import pandas as pd\n",
    "labels = pd.read_csv('labels.csv')\n",
    "X_pred = model.predict(X)  \n",
    "mse = np.mean((X - X_pred) ** 2, axis=(1, 2))  \n",
    "threshold = np.percentile(mse, 95)\n",
    "anomalies = mse > threshold  \n",
    "labels_aligned = labels.iloc[window_size - 1:].reset_index(drop=True)\n",
    "labels_aligned = labels_aligned.iloc[:len(anomalies)].reset_index(drop=True)\n",
    "from sklearn.metrics import classification_report\n",
    "print(classification_report(labels_aligned, anomalies.astype(int)))\n",
    "import matplotlib.pyplot as plt\n",
    "plt.figure(figsize=(12, 4))\n",
    "plt.plot(mse, label='Reconstruction Error')\n",
    "plt.axhline(y=threshold, color='r', linestyle='--', label='Threshold')\n",
    "plt.legend()\n",
    "plt.title('Detected Anomalies')\n",
    "plt.show()\n"
   ]
  },
  {
   "cell_type": "code",
   "execution_count": 38,
   "id": "6b3eeac2",
   "metadata": {},
   "outputs": [
    {
     "name": "stdout",
     "output_type": "stream",
     "text": [
      "              precision    recall  f1-score   support\n",
      "\n",
      "           0       1.00      0.95      0.97       131\n",
      "           1       0.00      0.00      0.00         0\n",
      "\n",
      "    accuracy                           0.95       131\n",
      "   macro avg       0.50      0.47      0.49       131\n",
      "weighted avg       1.00      0.95      0.97       131\n",
      "\n"
     ]
    },
    {
     "name": "stderr",
     "output_type": "stream",
     "text": [
      "/Users/prath/Desktop/NJIT/myenv/lib/python3.8/site-packages/sklearn/metrics/_classification.py:1318: UndefinedMetricWarning: Recall and F-score are ill-defined and being set to 0.0 in labels with no true samples. Use `zero_division` parameter to control this behavior.\n",
      "  _warn_prf(average, modifier, msg_start, len(result))\n",
      "/Users/prath/Desktop/NJIT/myenv/lib/python3.8/site-packages/sklearn/metrics/_classification.py:1318: UndefinedMetricWarning: Recall and F-score are ill-defined and being set to 0.0 in labels with no true samples. Use `zero_division` parameter to control this behavior.\n",
      "  _warn_prf(average, modifier, msg_start, len(result))\n",
      "/Users/prath/Desktop/NJIT/myenv/lib/python3.8/site-packages/sklearn/metrics/_classification.py:1318: UndefinedMetricWarning: Recall and F-score are ill-defined and being set to 0.0 in labels with no true samples. Use `zero_division` parameter to control this behavior.\n",
      "  _warn_prf(average, modifier, msg_start, len(result))\n"
     ]
    }
   ],
   "source": [
    "labels = pd.read_csv('labels.csv')\n",
    "labels_aligned = labels.iloc[window_size - 1:].reset_index(drop=True)\n",
    "labels_aligned = labels_aligned.iloc[:len(anomalies)].reset_index(drop=True)\n",
    "print(classification_report(labels_aligned, anomalies.astype(int)))"
   ]
  },
  {
   "cell_type": "code",
   "execution_count": 39,
   "id": "d265e511-47c9-46fd-bc32-1b0b2e81a08b",
   "metadata": {},
   "outputs": [
    {
     "name": "stderr",
     "output_type": "stream",
     "text": [
      "/Users/prath/Desktop/NJIT/myenv/lib/python3.8/site-packages/sklearn/metrics/_classification.py:1318: UndefinedMetricWarning: Recall and F-score are ill-defined and being set to 0.0 in labels with no true samples. Use `zero_division` parameter to control this behavior.\n",
      "  _warn_prf(average, modifier, msg_start, len(result))\n",
      "/Users/prath/Desktop/NJIT/myenv/lib/python3.8/site-packages/sklearn/metrics/_classification.py:1318: UndefinedMetricWarning: Recall and F-score are ill-defined and being set to 0.0 in labels with no true samples. Use `zero_division` parameter to control this behavior.\n",
      "  _warn_prf(average, modifier, msg_start, len(result))\n",
      "/Users/prath/Desktop/NJIT/myenv/lib/python3.8/site-packages/sklearn/metrics/_classification.py:1318: UndefinedMetricWarning: Recall and F-score are ill-defined and being set to 0.0 in labels with no true samples. Use `zero_division` parameter to control this behavior.\n",
      "  _warn_prf(average, modifier, msg_start, len(result))\n"
     ]
    }
   ],
   "source": [
    "from sklearn.metrics import classification_report\n",
    "\n",
    "# Generate the classification report as a string\n",
    "report = classification_report(labels_aligned, anomalies.astype(int))\n",
    "\n",
    "# Save to a text file\n",
    "with open('classification_report.txt', 'w') as f:\n",
    "    f.write(report)\n"
   ]
  },
  {
   "cell_type": "code",
   "execution_count": 40,
   "id": "ffb0ff18-d6a7-4b54-a532-3b0c4469dc4a",
   "metadata": {},
   "outputs": [
    {
     "name": "stdout",
     "output_type": "stream",
     "text": [
      "Finished\n"
     ]
    }
   ],
   "source": [
    "print(\"Finished\")"
   ]
  }
 ],
 "metadata": {
  "kernelspec": {
   "display_name": "Python 3 (ipykernel)",
   "language": "python",
   "name": "python3"
  },
  "language_info": {
   "codemirror_mode": {
    "name": "ipython",
    "version": 3
   },
   "file_extension": ".py",
   "mimetype": "text/x-python",
   "name": "python",
   "nbconvert_exporter": "python",
   "pygments_lexer": "ipython3",
   "version": "3.8.16"
  }
 },
 "nbformat": 4,
 "nbformat_minor": 5
}
